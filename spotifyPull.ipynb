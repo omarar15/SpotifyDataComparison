{
 "cells": [
  {
   "cell_type": "code",
   "execution_count": 59,
   "metadata": {
    "collapsed": true
   },
   "outputs": [],
   "source": [
    "# Library import and Spotify authentication\n",
    "\n",
    "import spotipy\n",
    "import spotipy.oauth2 as oauth2\n",
    "from spotipy.oauth2 import SpotifyClientCredentials\n",
    "import json\n",
    "\n",
    "CLIENT_ID=\"c76f832f97044404942bda82fd85da6f\"\n",
    "CLIENT_SECRET=\"0bba5f4a584540c8907315c990acae38\"\n",
    "name = \"omar\"\n",
    "username = \"omarar15\"\n",
    "playlist = \"37i9dQZF1EjpcqRuV2KBBa\"\n",
    "\n",
    "client_credentials_manager = SpotifyClientCredentials(client_id=CLIENT_ID, client_secret=CLIENT_SECRET)\n",
    "spotify = spotipy.Spotify(client_credentials_manager=client_credentials_manager)"
   ]
  },
  {
   "cell_type": "code",
   "execution_count": 60,
   "metadata": {},
   "outputs": [],
   "source": [
    "# Retrieving a list of song IDs from my Spotify Top 100\n",
    "\n",
    "results = playlist_tracks = spotify.user_playlist_tracks(username, playlist_id = playlist)\n",
    "tracks = results[\"items\"]\n",
    "\n",
    "trackIDs = []\n",
    "\n",
    "for track in tracks:\n",
    "    idLen = len(track[\"track\"][\"uri\"])\n",
    "    ID = track[\"track\"][\"uri\"][14:idLen]\n",
    "    trackIDs.append(ID)"
   ]
  },
  {
   "cell_type": "code",
   "execution_count": 61,
   "metadata": {},
   "outputs": [],
   "source": [
    "# Adding audio features\n",
    "\n",
    "trackFeatures = spotify.audio_features(trackIDs)\n",
    "\n",
    "trackInfo = []\n",
    "\n",
    "for i in range(len(trackIDs)):\n",
    "    obj = {\n",
    "        'name': tracks[i][\"track\"][\"name\"],\n",
    "        'ID': trackIDs[i],\n",
    "        'valence': trackFeatures[i][\"valence\"],\n",
    "        'energy': trackFeatures[i][\"energy\"],\n",
    "        'danceability': trackFeatures[i][\"danceability\"],\n",
    "    }\n",
    "    trackInfo.append(obj)"
   ]
  },
  {
   "cell_type": "code",
   "execution_count": 62,
   "metadata": {},
   "outputs": [],
   "source": [
    "# Writing JSON file\n",
    "\n",
    "with open('' + name + '.json', 'w') as outfile:\n",
    "    json.dump(trackInfo, outfile)"
   ]
  },
  {
   "cell_type": "code",
   "execution_count": null,
   "metadata": {},
   "outputs": [],
   "source": []
  }
 ],
 "metadata": {
  "kernelspec": {
   "display_name": "Python 2",
   "language": "python",
   "name": "python2"
  },
  "language_info": {
   "codemirror_mode": {
    "name": "ipython",
    "version": 2
   },
   "file_extension": ".py",
   "mimetype": "text/x-python",
   "name": "python",
   "nbconvert_exporter": "python",
   "pygments_lexer": "ipython2",
   "version": "2.7.6"
  }
 },
 "nbformat": 4,
 "nbformat_minor": 2
}
